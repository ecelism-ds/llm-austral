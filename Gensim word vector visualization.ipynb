{
 "cells": [
  {
   "cell_type": "markdown",
   "metadata": {},
   "source": [
    "# Gensim word vector visualization of various word vectors"
   ]
  },
  {
   "cell_type": "code",
   "execution_count": 3,
   "metadata": {},
   "outputs": [],
   "source": [
    "import numpy as np\n",
    "\n",
    "# Get the interactive Tools for Matplotlib\n",
    "%matplotlib notebook\n",
    "import matplotlib.pyplot as plt\n",
    "plt.style.use('ggplot')\n",
    "\n",
    "from sklearn.decomposition import PCA\n",
    "\n",
    "from gensim.test.utils import datapath, get_tmpfile\n",
    "from gensim.models import KeyedVectors\n",
    "from gensim.scripts.glove2word2vec import glove2word2vec"
   ]
  },
  {
   "cell_type": "markdown",
   "metadata": {},
   "source": [
    "For looking at word vectors, I'll use Gensim. We also use it in hw1 for word vectors. Gensim isn't really a deep learning package. It's a package for for word and text similarity modeling, which started with (LDA-style) topic models and grew into SVD and neural word representations. But its efficient and scalable, and quite widely used."
   ]
  },
  {
   "cell_type": "markdown",
   "metadata": {},
   "source": [
    "Our homegrown Stanford offering is GloVe word vectors. Gensim doesn't give them first class support, but allows you to convert a file of GloVe vectors into word2vec format. You can download the GloVe vectors from [the Glove page](https://nlp.stanford.edu/projects/glove/). They're inside [this zip file](https://nlp.stanford.edu/data/glove.6B.zip)"
   ]
  },
  {
   "cell_type": "markdown",
   "metadata": {},
   "source": [
    "(I use the 100d vectors below as a mix between speed and smallness vs. quality. If you try out the 50d vectors, they basically work for similarity but clearly aren't as good for analogy problems. If you load the 300d vectors, they're even better than the 100d vectors.)"
   ]
  },
  {
   "cell_type": "code",
   "execution_count": 4,
   "metadata": {},
   "outputs": [
    {
     "name": "stderr",
     "output_type": "stream",
     "text": [
      "/tmp/ipykernel_4945/3570557935.py:3: DeprecationWarning: Call to deprecated `glove2word2vec` (KeyedVectors.load_word2vec_format(.., binary=False, no_header=True) loads GLoVE text vectors.).\n",
      "  glove2word2vec(glove_file, word2vec_glove_file)\n"
     ]
    },
    {
     "data": {
      "text/plain": [
       "(400000, 100)"
      ]
     },
     "execution_count": 4,
     "metadata": {},
     "output_type": "execute_result"
    }
   ],
   "source": [
    "glove_file = datapath('/home/marian/Desktop/llm/glove/glove.6B.100d.txt')\n",
    "word2vec_glove_file = get_tmpfile(\"glove.6B.100d.word2vec.txt\")\n",
    "glove2word2vec(glove_file, word2vec_glove_file)"
   ]
  },
  {
   "cell_type": "code",
   "execution_count": 5,
   "metadata": {},
   "outputs": [],
   "source": [
    "model = KeyedVectors.load_word2vec_format(word2vec_glove_file)"
   ]
  },
  {
   "cell_type": "code",
   "execution_count": 6,
   "metadata": {},
   "outputs": [
    {
     "data": {
      "text/plain": [
       "array([-0.44413  ,  0.59188  ,  0.98472  , -0.058361 ,  0.6077   ,\n",
       "       -0.68421  ,  0.019399 ,  0.099464 , -0.13403  ,  0.24832  ,\n",
       "       -0.24049  , -0.35876  , -0.29002  , -0.39814  ,  0.02137  ,\n",
       "       -0.25071  , -0.013359 , -0.044295 , -0.29525  , -0.64601  ,\n",
       "        0.29299  , -0.37601  , -0.3124   , -0.1293   , -0.93938  ,\n",
       "        0.20459  , -0.72762  ,  0.2271   ,  0.44782  , -0.48476  ,\n",
       "        0.7424   ,  1.1035   ,  0.6844   ,  0.86386  , -0.22639  ,\n",
       "        0.68557  , -0.64844  , -0.48585  , -0.18262  ,  1.3293   ,\n",
       "       -1.4314   , -0.95057  ,  0.94967  ,  0.55113  , -0.84357  ,\n",
       "       -0.73851  , -0.13937  , -0.0097541, -0.28226  , -0.89138  ,\n",
       "        0.15243  , -0.2845   ,  0.84001  ,  1.0873   , -0.016641 ,\n",
       "       -2.5264   ,  0.50699  , -0.52419  ,  0.40204  ,  0.14475  ,\n",
       "       -0.51315  ,  0.097834 ,  0.47384  , -0.67161  ,  0.52199  ,\n",
       "        0.50871  ,  0.29222  ,  0.90184  , -0.2625   , -0.097745 ,\n",
       "        0.21947  ,  0.12971  , -0.96543  , -0.20776  ,  0.0093728,\n",
       "        0.36457  ,  0.040391 ,  0.09403  , -0.65371  , -0.37233  ,\n",
       "        0.52824  , -0.61497  ,  0.0082911, -0.56275  , -1.14     ,\n",
       "       -0.84073  , -0.15861  ,  0.3298   , -0.2238   , -1.2831   ,\n",
       "        0.0093602, -0.033262 ,  0.20877  ,  0.093094 , -0.79095  ,\n",
       "       -0.57303  ,  0.060038 ,  0.2637   ,  0.39312  ,  0.58784  ],\n",
       "      dtype=float32)"
      ]
     },
     "execution_count": 6,
     "metadata": {},
     "output_type": "execute_result"
    }
   ],
   "source": [
    "model['obama']"
   ]
  },
  {
   "cell_type": "code",
   "execution_count": 7,
   "metadata": {},
   "outputs": [
    {
     "data": {
      "text/plain": [
       "100"
      ]
     },
     "execution_count": 7,
     "metadata": {},
     "output_type": "execute_result"
    }
   ],
   "source": [
    "model['obama'].size"
   ]
  },
  {
   "cell_type": "markdown",
   "metadata": {},
   "source": []
  },
  {
   "cell_type": "code",
   "execution_count": null,
   "metadata": {},
   "outputs": [],
   "source": [
    "b - a\n",
    "el vector que va desde el punto a hacia el punto b"
   ]
  },
  {
   "cell_type": "code",
   "execution_count": 28,
   "metadata": {},
   "outputs": [
    {
     "data": {
      "text/plain": [
       "[('australian', 0.8853253126144409),\n",
       " ('british', 0.7792795896530151),\n",
       " ('zealand', 0.777469277381897),\n",
       " ('australia', 0.7655498385429382),\n",
       " ('australians', 0.6711474061012268),\n",
       " ('indian', 0.6657050848007202),\n",
       " ('canadian', 0.6550769209861755),\n",
       " ('english', 0.6455069184303284),\n",
       " ('england', 0.6152870655059814),\n",
       " ('sydney', 0.6130243539810181)]"
      ]
     },
     "execution_count": 28,
     "metadata": {},
     "output_type": "execute_result"
    }
   ],
   "source": [
    "gentilizador = model['japanese'] - model['japan']\n",
    "# el vector que va desde el punto japan hacia el punto japanese\n",
    "# ese vector seria \"gentilizador\"\n",
    "model.most_similar( gentilizador + model['australia'] )"
   ]
  },
  {
   "cell_type": "code",
   "execution_count": 29,
   "metadata": {},
   "outputs": [
    {
     "data": {
      "text/plain": [
       "[('queen', 0.8595485091209412),\n",
       " ('king', 0.7940503358840942),\n",
       " ('royal', 0.6838979125022888),\n",
       " ('prince', 0.6762632131576538),\n",
       " ('crown', 0.6331064105033875),\n",
       " ('vi', 0.6275410652160645),\n",
       " ('majesty', 0.6232401728630066),\n",
       " ('princess', 0.621472954750061),\n",
       " ('lord', 0.6147792935371399),\n",
       " ('palace', 0.6116635799407959)]"
      ]
     },
     "execution_count": 29,
     "metadata": {},
     "output_type": "execute_result"
    }
   ],
   "source": [
    "masculinizador = model['man'] - model['woman']\n",
    "# el vector que va desde el punto japan hacia el punto japanese\n",
    "# ese vector seria \"gentilizador\"\n",
    "model.most_similar( masculinizador + model['queen'] )"
   ]
  },
  {
   "cell_type": "code",
   "execution_count": 31,
   "metadata": {},
   "outputs": [
    {
     "data": {
      "text/plain": [
       "[('trump', 1.0),\n",
       " ('nows', 0.5873242616653442),\n",
       " ('hilton', 0.5507662892341614),\n",
       " ('casino', 0.5180236101150513),\n",
       " ('ivanka', 0.5056728720664978),\n",
       " ('mih', 0.47354453802108765),\n",
       " ('mahal', 0.47065550088882446),\n",
       " ('taj', 0.4643706977367401),\n",
       " ('condo', 0.46357980370521545),\n",
       " ('vegas', 0.4624684453010559)]"
      ]
     },
     "execution_count": 31,
     "metadata": {},
     "output_type": "execute_result"
    }
   ],
   "source": [
    "model.most_similar( model['trump'] )"
   ]
  },
  {
   "cell_type": "code",
   "execution_count": 32,
   "metadata": {},
   "outputs": [
    {
     "data": {
      "text/plain": [
       "array([-0.36086  , -0.59755  ,  0.52347  ,  0.23437  ,  0.32292  ,\n",
       "       -0.51337  ,  0.42366  , -0.57901  ,  0.68052  ,  0.35362  ,\n",
       "        0.65965  , -0.077487 ,  0.084191 , -0.75552  ,  0.52292  ,\n",
       "        0.068498 , -0.39279  ,  1.109    ,  0.76671  ,  0.65448  ,\n",
       "       -0.0071282, -1.191    ,  0.85652  ,  1.1666   ,  1.1307   ,\n",
       "        0.95714  ,  0.1755   ,  0.25925  , -0.68033  , -0.15709  ,\n",
       "        0.37865  ,  1.7457   ,  0.13984  ,  0.3117   ,  1.1883   ,\n",
       "        0.91004  , -0.99561  , -0.25455  ,  0.62543  , -0.60406  ,\n",
       "        0.51392  , -0.19732  ,  0.36899  , -0.077398 , -0.60466  ,\n",
       "        0.081442 ,  0.54924  , -0.28512  ,  0.88593  ,  0.28868  ,\n",
       "        0.16638  ,  0.35128  ,  0.26915  , -0.27353  , -0.38119  ,\n",
       "       -0.56266  , -0.77751  , -0.24339  ,  0.86258  , -0.29918  ,\n",
       "       -0.15988  ,  0.55506  , -0.37661  ,  0.33754  ,  0.0083737,\n",
       "        0.3258   , -0.21692  , -0.48346  ,  0.42849  , -0.60702  ,\n",
       "        0.79293  ,  1.0375   , -0.67104  , -0.9116   , -0.43022  ,\n",
       "        0.79931  ,  0.023623 , -0.045911 , -0.21221  , -0.48895  ,\n",
       "        0.44478  , -1.3734   ,  0.20169  ,  0.5503   , -1.0103   ,\n",
       "       -0.099401 ,  0.4866   , -0.0042567, -0.48539  ,  0.17198  ,\n",
       "        0.28724  ,  1.1088   ,  0.45444  , -0.81952  ,  0.43314  ,\n",
       "       -0.32933  , -0.32427  ,  0.22135  ,  1.4631   ,  0.22269  ],\n",
       "      dtype=float32)"
      ]
     },
     "execution_count": 32,
     "metadata": {},
     "output_type": "execute_result"
    }
   ],
   "source": [
    "model['iphone']"
   ]
  },
  {
   "cell_type": "code",
   "execution_count": 36,
   "metadata": {},
   "outputs": [
    {
     "data": {
      "text/plain": [
       "array([-0.048231 ,  0.37701  ,  0.55491  , -0.0090964,  0.27023  ,\n",
       "        0.054771 ,  0.18204  , -0.68414  ,  0.86456  ,  0.16044  ,\n",
       "        0.85377  , -0.53525  ,  0.47915  ,  0.33456  , -0.069723 ,\n",
       "       -0.42038  ,  0.0087901,  1.4933   ,  0.085026 ,  0.10336  ,\n",
       "       -0.33949  , -0.40798  ,  1.1633   ,  0.049193 ,  0.062866 ,\n",
       "       -0.88632  , -0.21601  ,  0.17077  , -0.55107  ,  0.51761  ,\n",
       "        0.71546  ,  0.80847  , -0.82041  , -0.095839 ,  0.62861  ,\n",
       "        0.39446  , -0.23027  , -0.046629 ,  0.49793  , -0.46938  ,\n",
       "       -0.094052 , -0.21102  , -0.66256  , -0.25159  , -1.0461   ,\n",
       "       -0.0077692,  0.3989   , -0.23381  ,  0.46636  , -0.48516  ,\n",
       "        0.20141  ,  0.22137  , -0.27029  ,  0.016486 ,  0.2973   ,\n",
       "       -0.97636  , -0.2704   ,  0.32526  ,  1.9464   , -0.13476  ,\n",
       "       -0.56582  ,  0.63312  , -0.039508 ,  0.26687  , -0.51747  ,\n",
       "        0.28241  ,  0.41117  , -0.26412  ,  0.82622  ,  0.54782  ,\n",
       "        0.31694  ,  0.22671  ,  0.34605  , -0.28538  , -0.62758  ,\n",
       "        0.36004  ,  0.033264 ,  0.59805  , -0.14024  ,  0.34157  ,\n",
       "        1.3229   , -0.21046  , -1.0174   ,  0.36137  , -2.122    ,\n",
       "        0.55571  ,  0.74804  , -0.38259  , -0.50124  ,  0.09813  ,\n",
       "        0.52575  ,  0.93488  ,  0.73747  , -0.41004  , -0.61469  ,\n",
       "       -0.93022  ,  0.38419  , -0.67675  ,  1.1752   , -0.27659  ],\n",
       "      dtype=float32)"
      ]
     },
     "execution_count": 36,
     "metadata": {},
     "output_type": "execute_result"
    }
   ],
   "source": [
    "model['computers']"
   ]
  },
  {
   "cell_type": "code",
   "execution_count": 22,
   "metadata": {
    "scrolled": true
   },
   "outputs": [
    {
     "data": {
      "text/plain": [
       "<gensim.models.keyedvectors.KeyedVectors at 0x7fb4df68fb90>"
      ]
     },
     "execution_count": 22,
     "metadata": {},
     "output_type": "execute_result"
    }
   ],
   "source": [
    "model"
   ]
  },
  {
   "cell_type": "code",
   "execution_count": null,
   "metadata": {},
   "outputs": [],
   "source": []
  },
  {
   "cell_type": "code",
   "execution_count": null,
   "metadata": {},
   "outputs": [],
   "source": [
    "\"El\" \"hombre\" \"esta\" \"jug\" \"ando\"\n",
    "\"El\" \"hombre\" \"esta\" \"pel\" \"ando\"\n",
    "\"El\" \"hombre\" \"esta\" \"ret\" \"ando\"\n"
   ]
  },
  {
   "cell_type": "code",
   "execution_count": 35,
   "metadata": {
    "scrolled": false
   },
   "outputs": [
    {
     "ename": "KeyError",
     "evalue": "\"Key 'alpargata' not present\"",
     "output_type": "error",
     "traceback": [
      "\u001b[0;31m---------------------------------------------------------------------------\u001b[0m",
      "\u001b[0;31mKeyError\u001b[0m                                  Traceback (most recent call last)",
      "Cell \u001b[0;32mIn[35], line 1\u001b[0m\n\u001b[0;32m----> 1\u001b[0m model\u001b[38;5;241m.\u001b[39mmost_similar(model[\u001b[38;5;124m'\u001b[39m\u001b[38;5;124malpargata\u001b[39m\u001b[38;5;124m'\u001b[39m],topn\u001b[38;5;241m=\u001b[39m\u001b[38;5;241m200\u001b[39m)\n",
      "File \u001b[0;32m~/anaconda3/envs/imbue/lib/python3.11/site-packages/gensim/models/keyedvectors.py:403\u001b[0m, in \u001b[0;36mKeyedVectors.__getitem__\u001b[0;34m(self, key_or_keys)\u001b[0m\n\u001b[1;32m    389\u001b[0m \u001b[38;5;250m\u001b[39m\u001b[38;5;124;03m\"\"\"Get vector representation of `key_or_keys`.\u001b[39;00m\n\u001b[1;32m    390\u001b[0m \n\u001b[1;32m    391\u001b[0m \u001b[38;5;124;03mParameters\u001b[39;00m\n\u001b[0;32m   (...)\u001b[0m\n\u001b[1;32m    400\u001b[0m \n\u001b[1;32m    401\u001b[0m \u001b[38;5;124;03m\"\"\"\u001b[39;00m\n\u001b[1;32m    402\u001b[0m \u001b[38;5;28;01mif\u001b[39;00m \u001b[38;5;28misinstance\u001b[39m(key_or_keys, _KEY_TYPES):\n\u001b[0;32m--> 403\u001b[0m     \u001b[38;5;28;01mreturn\u001b[39;00m \u001b[38;5;28mself\u001b[39m\u001b[38;5;241m.\u001b[39mget_vector(key_or_keys)\n\u001b[1;32m    405\u001b[0m \u001b[38;5;28;01mreturn\u001b[39;00m vstack([\u001b[38;5;28mself\u001b[39m\u001b[38;5;241m.\u001b[39mget_vector(key) \u001b[38;5;28;01mfor\u001b[39;00m key \u001b[38;5;129;01min\u001b[39;00m key_or_keys])\n",
      "File \u001b[0;32m~/anaconda3/envs/imbue/lib/python3.11/site-packages/gensim/models/keyedvectors.py:446\u001b[0m, in \u001b[0;36mKeyedVectors.get_vector\u001b[0;34m(self, key, norm)\u001b[0m\n\u001b[1;32m    422\u001b[0m \u001b[38;5;28;01mdef\u001b[39;00m \u001b[38;5;21mget_vector\u001b[39m(\u001b[38;5;28mself\u001b[39m, key, norm\u001b[38;5;241m=\u001b[39m\u001b[38;5;28;01mFalse\u001b[39;00m):\n\u001b[1;32m    423\u001b[0m \u001b[38;5;250m    \u001b[39m\u001b[38;5;124;03m\"\"\"Get the key's vector, as a 1D numpy array.\u001b[39;00m\n\u001b[1;32m    424\u001b[0m \n\u001b[1;32m    425\u001b[0m \u001b[38;5;124;03m    Parameters\u001b[39;00m\n\u001b[0;32m   (...)\u001b[0m\n\u001b[1;32m    444\u001b[0m \n\u001b[1;32m    445\u001b[0m \u001b[38;5;124;03m    \"\"\"\u001b[39;00m\n\u001b[0;32m--> 446\u001b[0m     index \u001b[38;5;241m=\u001b[39m \u001b[38;5;28mself\u001b[39m\u001b[38;5;241m.\u001b[39mget_index(key)\n\u001b[1;32m    447\u001b[0m     \u001b[38;5;28;01mif\u001b[39;00m norm:\n\u001b[1;32m    448\u001b[0m         \u001b[38;5;28mself\u001b[39m\u001b[38;5;241m.\u001b[39mfill_norms()\n",
      "File \u001b[0;32m~/anaconda3/envs/imbue/lib/python3.11/site-packages/gensim/models/keyedvectors.py:420\u001b[0m, in \u001b[0;36mKeyedVectors.get_index\u001b[0;34m(self, key, default)\u001b[0m\n\u001b[1;32m    418\u001b[0m     \u001b[38;5;28;01mreturn\u001b[39;00m default\n\u001b[1;32m    419\u001b[0m \u001b[38;5;28;01melse\u001b[39;00m:\n\u001b[0;32m--> 420\u001b[0m     \u001b[38;5;28;01mraise\u001b[39;00m \u001b[38;5;167;01mKeyError\u001b[39;00m(\u001b[38;5;124mf\u001b[39m\u001b[38;5;124m\"\u001b[39m\u001b[38;5;124mKey \u001b[39m\u001b[38;5;124m'\u001b[39m\u001b[38;5;132;01m{\u001b[39;00mkey\u001b[38;5;132;01m}\u001b[39;00m\u001b[38;5;124m'\u001b[39m\u001b[38;5;124m not present\u001b[39m\u001b[38;5;124m\"\u001b[39m)\n",
      "\u001b[0;31mKeyError\u001b[0m: \"Key 'alpargata' not present\""
     ]
    }
   ],
   "source": [
    "model.most_similar(model['alpargata'],topn=200)"
   ]
  },
  {
   "cell_type": "code",
   "execution_count": null,
   "metadata": {},
   "outputs": [],
   "source": []
  },
  {
   "cell_type": "code",
   "execution_count": 16,
   "metadata": {},
   "outputs": [
    {
     "data": {
      "text/plain": [
       "4.297475"
      ]
     },
     "execution_count": 16,
     "metadata": {},
     "output_type": "execute_result"
    }
   ],
   "source": [
    "from numpy import linalg as LA\n",
    "\n",
    "LA.norm(model['dark'] - model['black'])"
   ]
  },
  {
   "cell_type": "code",
   "execution_count": 17,
   "metadata": {},
   "outputs": [
    {
     "data": {
      "text/plain": [
       "3.1696725"
      ]
     },
     "execution_count": 17,
     "metadata": {},
     "output_type": "execute_result"
    }
   ],
   "source": [
    "LA.norm(model['white'] - model['black'])"
   ]
  },
  {
   "cell_type": "code",
   "execution_count": 21,
   "metadata": {},
   "outputs": [
    {
     "data": {
      "text/plain": [
       "[('obama', 1.0),\n",
       " ('barack', 0.937216579914093),\n",
       " ('bush', 0.927285373210907),\n",
       " ('clinton', 0.8960004448890686),\n",
       " ('mccain', 0.8875634074211121),\n",
       " ('gore', 0.8000321984291077),\n",
       " ('hillary', 0.7933662533760071),\n",
       " ('dole', 0.7851964831352234),\n",
       " ('rodham', 0.7518897652626038),\n",
       " ('romney', 0.7488930821418762)]"
      ]
     },
     "execution_count": 21,
     "metadata": {},
     "output_type": "execute_result"
    }
   ],
   "source": [
    "model.most_similar(model['obama'])"
   ]
  },
  {
   "cell_type": "code",
   "execution_count": 23,
   "metadata": {},
   "outputs": [
    {
     "data": {
      "text/plain": [
       "[('australian', 0.8853253126144409),\n",
       " ('british', 0.7792795896530151),\n",
       " ('zealand', 0.777469277381897),\n",
       " ('australia', 0.7655498385429382),\n",
       " ('australians', 0.671147346496582),\n",
       " ('indian', 0.6657050848007202),\n",
       " ('canadian', 0.6550769209861755),\n",
       " ('english', 0.6455069780349731),\n",
       " ('england', 0.6152870655059814),\n",
       " ('sydney', 0.6130243539810181)]"
      ]
     },
     "execution_count": 23,
     "metadata": {},
     "output_type": "execute_result"
    }
   ],
   "source": [
    "model.most_similar(model['australia'] + model['japanese'] - model['japan'])"
   ]
  },
  {
   "cell_type": "code",
   "execution_count": 7,
   "metadata": {},
   "outputs": [
    {
     "data": {
      "text/plain": [
       "[('barack', 0.937216579914093),\n",
       " ('bush', 0.927285373210907),\n",
       " ('clinton', 0.8960004448890686),\n",
       " ('mccain', 0.8875634074211121),\n",
       " ('gore', 0.8000321984291077),\n",
       " ('hillary', 0.7933662533760071),\n",
       " ('dole', 0.7851964831352234),\n",
       " ('rodham', 0.7518897652626038),\n",
       " ('romney', 0.7488930821418762),\n",
       " ('kerry', 0.7472624778747559)]"
      ]
     },
     "execution_count": 7,
     "metadata": {},
     "output_type": "execute_result"
    }
   ],
   "source": [
    "model.most_similar('obama')"
   ]
  },
  {
   "cell_type": "code",
   "execution_count": 8,
   "metadata": {},
   "outputs": [
    {
     "data": {
      "text/plain": [
       "[('coconut', 0.7097253799438477),\n",
       " ('mango', 0.705482542514801),\n",
       " ('bananas', 0.6887733936309814),\n",
       " ('potato', 0.6629636287689209),\n",
       " ('pineapple', 0.6534532308578491),\n",
       " ('fruit', 0.6519855260848999),\n",
       " ('peanut', 0.6420576572418213),\n",
       " ('pecan', 0.6349173188209534),\n",
       " ('cashew', 0.6294420957565308),\n",
       " ('papaya', 0.6246591210365295)]"
      ]
     },
     "execution_count": 8,
     "metadata": {},
     "output_type": "execute_result"
    }
   ],
   "source": [
    "model.most_similar('banana')"
   ]
  },
  {
   "cell_type": "code",
   "execution_count": 13,
   "metadata": {},
   "outputs": [
    {
     "data": {
      "text/plain": [
       "[('happy', 1.0),\n",
       " (\"'m\", 0.8413287997245789),\n",
       " ('feel', 0.8132575750350952),\n",
       " (\"'re\", 0.8048083782196045),\n",
       " ('i', 0.7938277125358582),\n",
       " (\"'ll\", 0.7916272878646851),\n",
       " ('really', 0.7903971076011658),\n",
       " ('glad', 0.7833361029624939),\n",
       " ('good', 0.7821646332740784),\n",
       " ('we', 0.7808917164802551)]"
      ]
     },
     "execution_count": 13,
     "metadata": {},
     "output_type": "execute_result"
    }
   ],
   "source": [
    "model.most_similar(model['happy'])"
   ]
  },
  {
   "cell_type": "code",
   "execution_count": null,
   "metadata": {},
   "outputs": [],
   "source": []
  },
  {
   "cell_type": "code",
   "execution_count": 9,
   "metadata": {},
   "outputs": [
    {
     "data": {
      "text/plain": [
       "[('shunichi', 0.49618101119995117),\n",
       " ('ieronymos', 0.4736502170562744),\n",
       " ('pengrowth', 0.4668096899986267),\n",
       " ('höss', 0.4636845588684082),\n",
       " ('damaskinos', 0.4617849290370941),\n",
       " ('yadin', 0.4617374837398529),\n",
       " ('hundertwasser', 0.4588957130908966),\n",
       " ('ncpa', 0.4577339291572571),\n",
       " ('maccormac', 0.4566109776496887),\n",
       " ('rothfeld', 0.4523947238922119)]"
      ]
     },
     "execution_count": 9,
     "metadata": {},
     "output_type": "execute_result"
    }
   ],
   "source": [
    "model.most_similar(negative='banana')"
   ]
  },
  {
   "cell_type": "code",
   "execution_count": 10,
   "metadata": {},
   "outputs": [
    {
     "name": "stdout",
     "output_type": "stream",
     "text": [
      "queen: 0.7699\n"
     ]
    }
   ],
   "source": [
    "result = model.most_similar(positive=['woman', 'king'], negative=['man'])\n",
    "print(\"{}: {:.4f}\".format(*result[0]))"
   ]
  },
  {
   "cell_type": "code",
   "execution_count": 11,
   "metadata": {},
   "outputs": [],
   "source": [
    "def analogy(x1, x2, y1):\n",
    "    result = model.most_similar(positive=[y1, x2], negative=[x1])\n",
    "    return result[0][0]"
   ]
  },
  {
   "cell_type": "markdown",
   "metadata": {},
   "source": [
    "![Analogy](imgs/word2vec-king-queen-composition.png)"
   ]
  },
  {
   "cell_type": "code",
   "execution_count": 12,
   "metadata": {},
   "outputs": [
    {
     "data": {
      "text/plain": [
       "'australian'"
      ]
     },
     "execution_count": 12,
     "metadata": {},
     "output_type": "execute_result"
    }
   ],
   "source": [
    "analogy('japan', 'japanese', 'australia')"
   ]
  },
  {
   "cell_type": "code",
   "execution_count": 13,
   "metadata": {},
   "outputs": [
    {
     "data": {
      "text/plain": [
       "'champagne'"
      ]
     },
     "execution_count": 13,
     "metadata": {},
     "output_type": "execute_result"
    }
   ],
   "source": [
    "analogy('australia', 'beer', 'france')"
   ]
  },
  {
   "cell_type": "code",
   "execution_count": 14,
   "metadata": {},
   "outputs": [
    {
     "data": {
      "text/plain": [
       "'nixon'"
      ]
     },
     "execution_count": 14,
     "metadata": {},
     "output_type": "execute_result"
    }
   ],
   "source": [
    "analogy('obama', 'clinton', 'reagan')"
   ]
  },
  {
   "cell_type": "code",
   "execution_count": 15,
   "metadata": {},
   "outputs": [
    {
     "data": {
      "text/plain": [
       "'longest'"
      ]
     },
     "execution_count": 15,
     "metadata": {},
     "output_type": "execute_result"
    }
   ],
   "source": [
    "analogy('tall', 'tallest', 'long')"
   ]
  },
  {
   "cell_type": "code",
   "execution_count": 16,
   "metadata": {},
   "outputs": [
    {
     "data": {
      "text/plain": [
       "'terrible'"
      ]
     },
     "execution_count": 16,
     "metadata": {},
     "output_type": "execute_result"
    }
   ],
   "source": [
    "analogy('good', 'fantastic', 'bad')"
   ]
  },
  {
   "cell_type": "code",
   "execution_count": null,
   "metadata": {},
   "outputs": [],
   "source": [
    "print(model.doesnt_match(\"breakfast cereal dinner lunch\".split()))"
   ]
  },
  {
   "cell_type": "code",
   "execution_count": null,
   "metadata": {},
   "outputs": [],
   "source": []
  },
  {
   "cell_type": "code",
   "execution_count": null,
   "metadata": {},
   "outputs": [],
   "source": [
    "def display_pca_scatterplot(model, words=None, sample=0):\n",
    "    if words == None:\n",
    "        if sample > 0:\n",
    "            words = np.random.choice(list(model.vocab.keys()), sample)\n",
    "        else:\n",
    "            words = [ word for word in model.vocab ]\n",
    "        \n",
    "    word_vectors = np.array([model[w] for w in words])\n",
    "\n",
    "    twodim = PCA().fit_transform(word_vectors)[:,:2]\n",
    "    \n",
    "    plt.figure(figsize=(6,6))\n",
    "    plt.scatter(twodim[:,0], twodim[:,1], edgecolors='k', c='r')\n",
    "    for word, (x,y) in zip(words, twodim):\n",
    "        plt.text(x+0.05, y+0.05, word)"
   ]
  },
  {
   "cell_type": "code",
   "execution_count": null,
   "metadata": {},
   "outputs": [],
   "source": []
  },
  {
   "cell_type": "code",
   "execution_count": null,
   "metadata": {},
   "outputs": [],
   "source": [
    "display_pca_scatterplot(model, \n",
    "                        ['coffee', 'tea', 'beer', 'wine', 'brandy', 'rum', 'champagne', 'water',\n",
    "                         'spaghetti', 'borscht', 'hamburger', 'pizza', 'falafel', 'sushi', 'meatballs',\n",
    "                         'dog', 'horse', 'cat', 'monkey', 'parrot', 'koala', 'lizard',\n",
    "                         'frog', 'toad', 'monkey', 'ape', 'kangaroo', 'wombat', 'wolf',\n",
    "                         'france', 'germany', 'hungary', 'luxembourg', 'australia', 'fiji', 'china',\n",
    "                         'homework', 'assignment', 'problem', 'exam', 'test', 'class',\n",
    "                         'school', 'college', 'university', 'institute'])"
   ]
  },
  {
   "cell_type": "code",
   "execution_count": null,
   "metadata": {},
   "outputs": [],
   "source": [
    "display_pca_scatterplot(model, sample=300)"
   ]
  },
  {
   "cell_type": "code",
   "execution_count": null,
   "metadata": {},
   "outputs": [],
   "source": []
  }
 ],
 "metadata": {
  "kernelspec": {
   "display_name": "Python imbue",
   "language": "python",
   "name": "imbue"
  },
  "language_info": {
   "codemirror_mode": {
    "name": "ipython",
    "version": 3
   },
   "file_extension": ".py",
   "mimetype": "text/x-python",
   "name": "python",
   "nbconvert_exporter": "python",
   "pygments_lexer": "ipython3",
   "version": "3.11.5"
  }
 },
 "nbformat": 4,
 "nbformat_minor": 2
}
