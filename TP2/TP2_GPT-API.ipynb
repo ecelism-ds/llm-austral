{
 "cells": [
  {
   "cell_type": "code",
   "execution_count": 1,
   "id": "35799b00-9830-475d-8668-15e03eb2b956",
   "metadata": {},
   "outputs": [],
   "source": [
    "import os\n",
    "import json\n",
    "os.environ[\"OPENAI_API_KEY\"] = ''\n",
    "from openai import OpenAI\n",
    "client = OpenAI()"
   ]
  },
  {
   "cell_type": "markdown",
   "id": "abdfea55-3c12-4745-a72c-c8e908e258b3",
   "metadata": {},
   "source": [
    "# Usando LLM como API para resolver otros problemas\n",
    "\n",
    "## ChatGPT\n",
    "\n",
    "Muchos habrán usado ya ChatGPT, nos puede ser múy útil y ayudar mucho en una gran cantidad de tareas como editar texto:\n",
    "\n",
    "<img src=\"chatgpt.png\" alt=\"chatgpt\" width=\"800\"/>\n",
    "\n",
    "## Haciendo aplicaciones que usen GPT\n",
    "\n",
    "Pero la verdadera potencialidad está en que en vez de que lo podamos usar directamente como usuarios, que lo use un programa, a través de una API para poder construir soluciones.\n",
    "\n",
    "De hecho muchos productos que se promocionan como \"productos de AI\" usan chat-gpt por detrás. Por ejemplo https://app.rezi.ai/ que te ayuda a escribir el CV (haciendo correcciones, resúmenes e incluso puede escribir o re-escribir items por vos). Sorpresivamente, si usamos ChatGPT obtenemos exactamente las mismas sugerencias!\n",
    "\n",
    "\n",
    "\n"
   ]
  },
  {
   "cell_type": "code",
   "execution_count": 2,
   "id": "7f99d3f9-654d-4792-b926-bf0548c07e54",
   "metadata": {},
   "outputs": [
    {
     "data": {
      "text/plain": [
       "ChatCompletion(id='chatcmpl-APHZtR74DGZuygC1ta46PMw5718rr', choices=[Choice(finish_reason='stop', index=0, logprobs=None, message=ChatCompletionMessage(content='32 equipos participaron en el Mundial de Fútbol 2018, celebrado en Rusia.', role='assistant', function_call=None, tool_calls=None, refusal=None))], created=1730589133, model='gpt-3.5-turbo-0125', object='chat.completion', service_tier=None, system_fingerprint=None, usage=CompletionUsage(completion_tokens=23, prompt_tokens=23, total_tokens=46, prompt_tokens_details={'cached_tokens': 0}, completion_tokens_details={'reasoning_tokens': 0}))"
      ]
     },
     "execution_count": 2,
     "metadata": {},
     "output_type": "execute_result"
    }
   ],
   "source": [
    "response = client.chat.completions.create(\n",
    "  model=\"gpt-3.5-turbo\",\n",
    "  messages=[\n",
    "    {\"role\": \"user\", \"content\": \"Cuantos equipos participaron en el mundial de futbol 2018?\"},\n",
    "  ],\n",
    "    seed=1,\n",
    ")\n",
    "response"
   ]
  },
  {
   "cell_type": "code",
   "execution_count": 4,
   "id": "91853d37-c58c-43db-9175-d596e181357f",
   "metadata": {},
   "outputs": [
    {
     "data": {
      "text/plain": [
       "'32 equipos participaron en el Mundial de Fútbol 2018, celebrado en Rusia.'"
      ]
     },
     "execution_count": 4,
     "metadata": {},
     "output_type": "execute_result"
    }
   ],
   "source": [
    "response.choices[0].message.content"
   ]
  },
  {
   "cell_type": "markdown",
   "id": "da519539-513e-4081-a1ed-869a5c2087be",
   "metadata": {},
   "source": [
    "#### Ejercicio 1: \"Usando chatGPT para traducir un texto del ingles\"\n",
    "\n",
    "Utilizar una llamada a chatGPT para crear una función en python que traduzca texto del español al inglés\n"
   ]
  },
  {
   "cell_type": "code",
   "execution_count": 7,
   "id": "44bb9add-9503-402d-8b94-0d3ed85b9acb",
   "metadata": {},
   "outputs": [
    {
     "data": {
      "text/plain": [
       "'\"We are on our way to becoming experts in the use of LLMs!\"'"
      ]
     },
     "execution_count": 7,
     "metadata": {},
     "output_type": "execute_result"
    }
   ],
   "source": [
    "def translate_to_english(spanish_text):\n",
    "    response = client.chat.completions.create(\n",
    "      model=\"gpt-3.5-turbo\",\n",
    "      messages=[\n",
    "        {\"role\": \"user\", \"content\": f\"Translate the following text from Spanish to English: \\\"{spanish_text}\\\"\"},\n",
    "      ],\n",
    "        seed=1,\n",
    "    )\n",
    "    return response.choices[0].message.content\n",
    "\n",
    "translate_to_english(\"Estamos caminos a convertirnos en expertos en el uso de LLMs!\")"
   ]
  },
  {
   "cell_type": "markdown",
   "id": "9b68969e-f8fc-411d-92e3-25432df3c252",
   "metadata": {},
   "source": [
    "Lo que nos permite esto es resolver, con un sólo modelo (chatGPT) muchísimos problemas de NLP:\n",
    "- Information Extraction (extraer información extructurada de un texto).\n",
    "- Question Answer (responder preguntas de comprensión lectora o sea dado un fragmento de texto)\n",
    "- Translation (traducción).\n",
    "- ... y un largo etc\n",
    "\n",
    "Por ejemplo en las siguiente celda tenemos un texto que se ha copiado del artículo de la wikipedia de [José de San Martín](https://es.wikipedia.org/wiki/Jos%C3%A9_de_San_Mart%C3%ADn). Y utilizando chatGPT podemos extraer todas las fechas que aparecen en el texto con una breve descripción de la mismas."
   ]
  },
  {
   "cell_type": "code",
   "execution_count": 32,
   "id": "bfcd907e-50fb-4a82-b7df-c14a30271325",
   "metadata": {},
   "outputs": [
    {
     "name": "stdout",
     "output_type": "stream",
     "text": [
      "José Francisco de San Martín y Matorras4​ (Yapeyú, Imperio español; 25 de febrero de 1778-Boulogne-sur-Mer, Francia; 17 de agosto de 1850)5​ fue un militar y político argentino, conocido por ser el libertador de Argentina y Chile, además haber proclamado e impulsado la independencia de Perú. Es una de las figuras más trascendentes de las guerras de independencia hispanoamericanas junto a Simón Bolívar.\n",
      "\n",
      "En abril de 1784, cuando tenía seis años, llegó con su familia a la ciudad española de Cádiz –previa estadía en Buenos Aires– y se radicó luego en la ciudad de Málaga.6​7​Comenzó sus estudios en el Real Seminario de Nobles de Madrid y en la Escuela de Temporalidades de Málaga en 1786. Ingresó al ejército español e hizo su carrera militar en el Regimiento de Murcia.8​Combatió en el norte de África, luego contra la dominación napoleónica de España y participó en las batallas de Bailén y La Albuera.9​\n",
      "\n",
      "Con 34 años, en 1812, tras haber alcanzado el grado de teniente coronel, y luego de una escala en Londres, retornó a Buenos Aires, donde se puso al servicio de la independencia de las Provincias Unidas del Río de la Plata.10​Se le encomendó la creación del Regimiento de Granaderos a Caballo (que hoy lleva su nombre), que tuvo su bautismo de fuego en el combate de San Lorenzo.11​Se le encargó la jefatura del Ejército del Norte, en reemplazo del general Manuel Belgrano.12​ Allí concibió su plan continental, comprendiendo que el triunfo patriota en la guerra de la independencia hispanoamericana solo se lograría con la eliminación de todos los núcleos realistas que eran los centros de poder leales a mantener el sistema colonial en América.13​\n",
      "\n",
      "Nombrado gobernador de Cuyo, con sede en la ciudad de Mendoza, puso en marcha su proyecto.14​Tras organizar al Ejército de los Andes, cruzó la Cordillera de los Andes y lideró la emancipación de Chile, en las batallas de Chacabuco y Maipú. Luego, utilizando una flota organizada y financiada por Chile,15​16​ y luego de recibir instrucciones del Senado de Chile,17​18​ atacó al centro del poder español en Sudamérica, la ciudad de Lima, y declaró la independencia del Perú en 1821. Finalizó su carrera de las armas luego de producida la Entrevista de Guayaquil con Simón Bolívar, en 1822, donde le cedió su ejército y la meta de finalizar la liberación del Perú.19​\n",
      "\n",
      "En Argentina se lo reconoce como el Padre de la Patria20​ y el «Libertador»,4​ y se lo valora como el principal héroe y prócer del panteón nacional. El ejército argentino lo reconoce como general de la nación sin asignarle ningún grado especial. En Perú también se lo recuerda como el «Fundador de la Libertad del Perú», el «Fundador de la República», el «Generalísimo de las Armas» y el «Protector» del país.21​El Ejército de Chile le reconoce el grado de capitán general.22​\n"
     ]
    }
   ],
   "source": [
    "extracted_text = \"\"\"\n",
    "José Francisco de San Martín y Matorras4​ (Yapeyú, Imperio español; 25 de febrero de 1778-Boulogne-sur-Mer, Francia; 17 de agosto de 1850)5​ fue un militar y político argentino, conocido por ser el libertador de Argentina y Chile, además haber proclamado e impulsado la independencia de Perú. Es una de las figuras más trascendentes de las guerras de independencia hispanoamericanas junto a Simón Bolívar.\n",
    "\n",
    "En abril de 1784, cuando tenía seis años, llegó con su familia a la ciudad española de Cádiz –previa estadía en Buenos Aires– y se radicó luego en la ciudad de Málaga.6​7​Comenzó sus estudios en el Real Seminario de Nobles de Madrid y en la Escuela de Temporalidades de Málaga en 1786. Ingresó al ejército español e hizo su carrera militar en el Regimiento de Murcia.8​Combatió en el norte de África, luego contra la dominación napoleónica de España y participó en las batallas de Bailén y La Albuera.9​\n",
    "\n",
    "Con 34 años, en 1812, tras haber alcanzado el grado de teniente coronel, y luego de una escala en Londres, retornó a Buenos Aires, donde se puso al servicio de la independencia de las Provincias Unidas del Río de la Plata.10​Se le encomendó la creación del Regimiento de Granaderos a Caballo (que hoy lleva su nombre), que tuvo su bautismo de fuego en el combate de San Lorenzo.11​Se le encargó la jefatura del Ejército del Norte, en reemplazo del general Manuel Belgrano.12​ Allí concibió su plan continental, comprendiendo que el triunfo patriota en la guerra de la independencia hispanoamericana solo se lograría con la eliminación de todos los núcleos realistas que eran los centros de poder leales a mantener el sistema colonial en América.13​\n",
    "\n",
    "Nombrado gobernador de Cuyo, con sede en la ciudad de Mendoza, puso en marcha su proyecto.14​Tras organizar al Ejército de los Andes, cruzó la Cordillera de los Andes y lideró la emancipación de Chile, en las batallas de Chacabuco y Maipú. Luego, utilizando una flota organizada y financiada por Chile,15​16​ y luego de recibir instrucciones del Senado de Chile,17​18​ atacó al centro del poder español en Sudamérica, la ciudad de Lima, y declaró la independencia del Perú en 1821. Finalizó su carrera de las armas luego de producida la Entrevista de Guayaquil con Simón Bolívar, en 1822, donde le cedió su ejército y la meta de finalizar la liberación del Perú.19​\n",
    "\n",
    "En Argentina se lo reconoce como el Padre de la Patria20​ y el «Libertador»,4​ y se lo valora como el principal héroe y prócer del panteón nacional. El ejército argentino lo reconoce como general de la nación sin asignarle ningún grado especial. En Perú también se lo recuerda como el «Fundador de la Libertad del Perú», el «Fundador de la República», el «Generalísimo de las Armas» y el «Protector» del país.21​El Ejército de Chile le reconoce el grado de capitán general.22​\n",
    "\"\"\".strip()\n",
    "\n",
    "print(extracted_text)"
   ]
  },
  {
   "cell_type": "code",
   "execution_count": 34,
   "id": "f76f2bb1-df6d-454f-adf7-fbb0da17a5ce",
   "metadata": {},
   "outputs": [
    {
     "name": "stdout",
     "output_type": "stream",
     "text": [
      "Extract all the dates from the given text. Extract them in YYYY-MM-DD format. \n",
      "Complete with '?' if there is missing information. For instance, if there is a date with just the year (no day or month), use YYYY-??-??.\n",
      "Return the result in JSON format where each key is the extracted date and the values are a brief sum-up of the extracted date.\n",
      "\n",
      "TEXT:\n",
      "{placeholder_text}\n"
     ]
    }
   ],
   "source": [
    "prompt = \"\"\"\n",
    "Extract all the dates from the given text. Extract them in YYYY-MM-DD format. \n",
    "Complete with '?' if there is missing information. For instance, if there is a date with just the year (no day or month), use YYYY-??-??.\n",
    "Return the result in JSON format where each key is the extracted date and the values are a brief sum-up of the extracted date.\n",
    "\n",
    "TEXT:\n",
    "{placeholder_text}\n",
    "\"\"\".strip()\n",
    "print(prompt)"
   ]
  },
  {
   "cell_type": "code",
   "execution_count": 40,
   "id": "e1aeeb87-2569-40a9-a4ad-397ec21bd03c",
   "metadata": {},
   "outputs": [
    {
     "data": {
      "text/plain": [
       "{'1778-02-25': 'Birth of José Francisco de San Martín y Matorras in Yapeyú, Spanish Empire',\n",
       " '1850-08-17': 'Death of José Francisco de San Martín y Matorras in Boulogne-sur-Mer, France',\n",
       " '1784-??-??': 'Arrival of José Francisco de San Martín y Matorras in Cádiz with his family',\n",
       " '1812-??-??': 'Return of José Francisco de San Martín y Matorras to Buenos Aires to serve the independence of Provincias Unidas del Río de la Plata',\n",
       " '1821-??-??': 'Declaration of independence of Peru by José Francisco de San Martín y Matorras in Lima'}"
      ]
     },
     "execution_count": 40,
     "metadata": {},
     "output_type": "execute_result"
    }
   ],
   "source": [
    "def extract_dates(text):\n",
    "    response = client.chat.completions.create(\n",
    "      model=\"gpt-3.5-turbo\",\n",
    "      messages=[\n",
    "        {\"role\": \"user\", \"content\": prompt.format(placeholder_text=text)},\n",
    "      ],\n",
    "        seed=1,\n",
    "    )\n",
    "    completion = response.choices[0].message.content\n",
    "    return json.loads(completion)\n",
    "\n",
    "extract_dates(extracted_text)"
   ]
  },
  {
   "cell_type": "markdown",
   "id": "1b23aebc-b088-47d0-9e52-48d9903b32c7",
   "metadata": {},
   "source": [
    "#### Conclusiones\n",
    "\n",
    "Esta función puede parecer tonta pero es de suma importancia transformar datos no estructurados en datos estructurados si queremos que dichos datos sean luego usados por un programa. Por ejemplo podríamos analizar una serie de páginas y querer saber si ocurren hechos en un rango de años (ejemplo 1700-1800) y qué ocurre. Para ello en vez de preguntarle al chatGPT el problema original, podríamos hacer que haga information extraction tal como lo planteamos acá y guardar los diccionarios que produce. Eso nos permite incluso que si en un futuro queremos cambiar el rango temporal no tenemos que volver a hacer llamadas a chatGPT (que son costosas y lentas) para resolver la tarea si hemos guardado los diccionarios y las páginas no han cambiado."
   ]
  },
  {
   "cell_type": "markdown",
   "id": "c2135319-ceec-489e-bdef-793f5e97addb",
   "metadata": {},
   "source": [
    "#### Ejercicio 2: \"Usando chatGPT para una aplicación libre\" (opcional)\n",
    "\n",
    "En este ejercicio toca pensar qué aplicación podrían/querrían resolver con esta poderosa herramienta e implementarla.\n",
    "Piensen que pueden hacer más de una llamada a chatGPT\n",
    "\n",
    "### Entregando una demo, no un notebook\n",
    "\n",
    "Cuando presentamos un trabajo ya sea a un cliente como dentro de una misma compañía es fuertemente aconsejable que NO entreguen un jupyter notbook. Nadie que no sea programador quiere leer un jupyter notebook. Y mucho menos tiene que saber como ejecutarlo.\n",
    "\n",
    "Es por eso que, muchas veces para llegar a convencer a quiénes toman las decisiones es muy importante hacer un demo de un pequeño producto. Con herramientas como [streamlit](https://docs.streamlit.io/get-started/tutorials/create-an-app) es muy fácil crear aplicaciones webs y mostrar visualizaciones.\n",
    "\n",
    "#### Ejercicio 3: \"Presentando una demo\" (opcional)\n",
    "\n",
    "El ejercicio consiste en hacer una webapp de alguna aplicación útil que haga uso de chatGPT (puede ser la que hicieron en el ejercicio 2). Por ejemplo yo hice un analizador de conversaciones de whatsapp. Pueden probarlo ejecutando en la base del repo: \n",
    "\n",
    "`\n",
    "streamlit run  ./TP2/whatsappanalyzer/demo.py\n",
    "`\n",
    "\n",
    "Tienen que [instalar streamlit](https://docs.streamlit.io/get-started/installation). En una demo real, montaríamos el programa en un servidor y le pasaríamos a la persona que lo usea una URL que apunte al programa.\n",
    "También tienen que completar la línea 5 con su token de OpenAI."
   ]
  }
 ],
 "metadata": {
  "kernelspec": {
   "display_name": "ml",
   "language": "python",
   "name": "ml"
  },
  "language_info": {
   "codemirror_mode": {
    "name": "ipython",
    "version": 3
   },
   "file_extension": ".py",
   "mimetype": "text/x-python",
   "name": "python",
   "nbconvert_exporter": "python",
   "pygments_lexer": "ipython3",
   "version": "3.12.3"
  }
 },
 "nbformat": 4,
 "nbformat_minor": 5
}
