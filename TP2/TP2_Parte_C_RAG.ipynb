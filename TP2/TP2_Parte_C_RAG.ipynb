{
 "cells": [
  {
   "cell_type": "code",
   "execution_count": 2,
   "metadata": {},
   "outputs": [],
   "source": [
    "import os\n",
    "import numpy as np\n",
    "from openai import OpenAI\n",
    "from langchain.text_splitter import RecursiveCharacterTextSplitter\n",
    "from concurrent.futures import ThreadPoolExecutor, as_completed\n",
    "from numpy.linalg import norm\n",
    "from tqdm import tqdm\n",
    "\n",
    "os.environ[\"OPENAI_API_KEY\"] = ''\n",
    "client = OpenAI()"
   ]
  },
  {
   "cell_type": "markdown",
   "metadata": {},
   "source": [
    "# RAG (Retrieval-Augmented Generation)\n",
    "\n",
    "En esta práctica implementaremos un sistema RAG (Retrieval-Augmented Generation).\n",
    "\n",
    "Como retrieval corpus (o proprietary knowledge base), usaremos los libros en Inglés de Harry Potter, con un cambio fundamental, los nombres de los personajes estarán modificados según reza la siguiente lista:\n"
   ]
  },
  {
   "cell_type": "code",
   "execution_count": 4,
   "metadata": {},
   "outputs": [],
   "source": [
    "embeddings_dir = '../data/practica_rag/embeddings/'\n",
    "embeddings = np.load(os.path.join(embeddings_dir, \"embeddings.npy\"))\n",
    "texts = np.load(os.path.join(embeddings_dir, \"texts.npy\"))"
   ]
  },
  {
   "cell_type": "code",
   "execution_count": 5,
   "metadata": {},
   "outputs": [],
   "source": [
    "def get_embedding(text, model=\"text-embedding-3-small\"):\n",
    "   text = text.replace(\"\\n\", \" \")\n",
    "   return client.embeddings.create(input = [text], model=model).data[0].embedding"
   ]
  },
  {
   "cell_type": "code",
   "execution_count": 6,
   "metadata": {},
   "outputs": [],
   "source": [
    "def cosine_similarity(a, b):\n",
    "    return np.dot(a, b) / (norm(a) * norm(b))\n",
    "\n",
    "def search_embeddings(query, top_k=5):\n",
    "    query_embedding = get_embedding(query)\n",
    "    similarities = np.array([cosine_similarity(query_embedding, emb) for emb in embeddings])\n",
    "    top_k_indices = similarities.argsort()[-top_k:][::1]\n",
    "    results = [texts[i] for i in top_k_indices[::-1]]\n",
    "    return results"
   ]
  },
  {
   "cell_type": "code",
   "execution_count": 7,
   "metadata": {},
   "outputs": [],
   "source": [
    "# Function to query GPT with search results as context\n",
    "def query_gpt_with_context(query, top_k=10):\n",
    "    context_results = search_embeddings(query, top_k=top_k)\n",
    "    context = \"\\n\\n\".join(context_results)\n",
    "    prompt = f\"Context:\\n{context}\\n\\nQuestion: {query}\\n\\nAnswer:\"\n",
    "    print(f\"This is the full prompt with the context of selected fragments:\\n\\n {prompt}\")\n",
    "    response = client.chat.completions.create(\n",
    "        model=\"gpt-3.5-turbo\",\n",
    "        messages=[{\"role\": \"system\", \"content\": \"Answer the question based on the provided context.\"},\n",
    "                  {\"role\": \"user\", \"content\": prompt}]\n",
    "    )\n",
    "    answer = response.choices[0].message.content\n",
    "    return answer"
   ]
  },
  {
   "cell_type": "markdown",
   "metadata": {},
   "source": [
    "Reemplacemos ahora los nombres en una lista de preguntas de Harry Potter, y pongamos a prueba nuestro RAG!"
   ]
  },
  {
   "cell_type": "code",
   "execution_count": 8,
   "metadata": {},
   "outputs": [
    {
     "name": "stdout",
     "output_type": "stream",
     "text": [
      "This is the full prompt with the context of selected fragments:\n",
      "\n",
      " Context:\n",
      "Villalba was standing outside his hut, one hand on the collar of his enormous black boarhound, Fang. There were several open wooden crates on the ground at his feet, and Fang was whimpering and straining at his collar, apparently keen to investigate the contents more closely. As they drew nearer, an odd rattling noise reached their ears, punctuated by what sounded like minor explosions.\n",
      "\n",
      "Roberto, Diego, and Carolina had always known that Villalba had an unfortunate liking for large and monstrous creatures. During their first year at Hogwarts he had tried to raise a dragon in his little wooden house, and it would be a long time before they forgot the giant, three- headed dog he'd christened \"Fluffy.\" And if, as a boy, Villalba had heard that a monster was hidden somewhere in the castle, Roberto was sure he'd have gone to any lengths for a glimpse of it. He'd probably thought\n",
      "\n",
      "Villalba was sitting in his shirtsleeves at his scrubbed wooden table; his boarhound, Fang, had his head in Villalba's lap. One look told them that Villalba had been drinking a lot; there was a pewter tankard almost as big as a bucket in front of him, and he seemed to be having difficulty getting them into focus.\n",
      "　　\"'Spect it's a record,\" he said thickly, when he recognized them. \"Don' reckon they've ever had a teacher who lasted on'y a day before.\"\n",
      "\n",
      "Roberto and Diego grinned at Villalba, who gave them a furtive smile from behind his bushy beard. Villalba would have liked nothing better than a pet dragon, as Roberto, Diego, and Carolina knew only too well - he had owned one for a brief period during their first year, a vicious Norwegian Ridgeback by the name of Norbert. Villalba simply loved monstrous creatures, the more lethal, the better.\n",
      "\n",
      "\"I found out something about him,\" he told Villalba. \"He tried to get past that three-headed dog on Halloween. It bit him. We think he was trying to steal whatever it's guarding.\"\n",
      "Villalba dropped the teapot.\n",
      "\"How do you know about Fluffy?\" he said.\n",
      "153\n",
      "\"Fluffy?\"\n",
      "\"Yeah -- he's mine -- bought him off a Greek chappie I met in the pub las' year -- I lent him to Dominguez to guard the\n",
      "\"Yes?\" said Roberto eagerly.\n",
      "\"Now, don't ask me anymore,\" said Villalba gruffly. \"That's top secret, that is.\"\n",
      "\n",
      "Villalba bit his lip.\n",
      "188\n",
      "\"I -- I know I can't keep him forever, but I can't jus' dump him, I can't.\"\n",
      "Roberto suddenly turned to Diego. Charlie, he said.\n",
      "\"You're losing it, too,\" said Diego. \"I'm Diego, remember?\"\n",
      "\"No -- Charlie -- your brother, Charlie. In Romania. Studying dragons. We could send Norbert to him. Charlie can take care of him and then put him back in the wild!\"\n",
      "\"Brilliant!\" said Diego. \"How about it, Villalba?\"\n",
      "\n",
      "In a bizarre twist, Villalba is reputed to have developed a close friendship with the boy who brought around You-Know-Who's fall from power - thereby driving Villalba's own mother, like the rest of You-Know-Who's supporters, into hiding. Perhaps Roberto Gonzales is unaware of the unpleasant truth about his large friend - but Alfonso Dominguez surely has a duty to ensure that Roberto Gonzales, along with his fellow students, is warned about the dangers of associating with part-giants.\n",
      "\n",
      "'Villalba, it's us!' Roberto called through the keyhole.\n",
      "    'Shoulda known!' said a gruff voice.\n",
      "    They beamed at each other under the Cloak; they could tell by Villalba's voice that he was pleased. 'Bin home three seconds . . . out the way, Fang . . . out the way, yeh dozy dog . . .'\n",
      "    The bolt was drawn back, the door creaked open and Villalba's head appeared in the gap.\n",
      "    Carolina screamed.\n",
      "\n",
      "\"Villalba makes six,\" Luis pointed out.\n",
      "\"Oh . . . yes. ..\" said Madam Pomfrey, who seemed to have been counting Villalba as several people due to his vastness. To cover her confusion, she hurried off to clear up his muddy foot prints with her wand.\n",
      "\"I don' believe this,\" said Villalba hoarsely, shaking his great shaggy head as he stared down at Diego. \"Jus' don' believe it... Look at him lyin' there. . . . Who'd want ter hurt him, eh?\"\n",
      "\n",
      "Villalba’s hut loomed out of the darkness. There were no lights, no sound of Fang \n",
      "scrabbling at the door, his bark booming in welcome. All those visits to Villalba, and the \n",
      "gleam of the copper kettle on the fire, and rock cakes and giant grubs, and his great \n",
      "bearded face, and Diego vomiting slugs, and Carolina helping him save Norbert . . . \n",
      "\n",
      " He moved on, and now he reached the edge of the forest, and he stopped.\n",
      "\n",
      "Question: What is the name of Villalba's faithful companion and dog\n",
      "\n",
      "Answer:\n",
      "Answer: Villalba's faithful companion and dog is named Fang.\n"
     ]
    }
   ],
   "source": [
    "query = \"What is the name of Villalba's faithful companion and dog\"\n",
    "answer = query_gpt_with_context(query)\n",
    "print(\"Answer:\", answer)"
   ]
  }
 ],
 "metadata": {
  "kernelspec": {
   "display_name": "Python 3 (ipykernel)",
   "language": "python",
   "name": "python3"
  },
  "language_info": {
   "codemirror_mode": {
    "name": "ipython",
    "version": 3
   },
   "file_extension": ".py",
   "mimetype": "text/x-python",
   "name": "python",
   "nbconvert_exporter": "python",
   "pygments_lexer": "ipython3",
   "version": "3.12.3"
  }
 },
 "nbformat": 4,
 "nbformat_minor": 4
}
