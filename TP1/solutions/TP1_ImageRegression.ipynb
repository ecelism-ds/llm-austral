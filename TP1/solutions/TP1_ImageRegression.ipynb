{
 "cells": [
  {
   "cell_type": "markdown",
   "id": "732fa26b-e6c2-4bbf-b37e-71971699f94e",
   "metadata": {},
   "source": [
    "Para ello ya escribimos un Dataset particular que lee el CSV y dado el índice de un ejemplo, calcula la posición de la cabeza, carga la imágen y retorna el par (imagen, posición) que para nuestro problema constituirán el par (x,y) (feature o variable independiente, target o variable dependiente):"
   ]
  },
  {
   "cell_type": "code",
   "execution_count": 1,
   "id": "d2c9cb46-184f-41dc-9b83-1964e96ba1b0",
   "metadata": {},
   "outputs": [],
   "source": [
    "import torch\n",
    "from torch.utils.data import TensorDataset, DataLoader\n",
    "import torchvision.models\n",
    "from torch import nn\n",
    "\n",
    "import numpy as np\n",
    "from matplotlib import pyplot\n",
    "import math\n",
    "import pickle\n",
    "import gzip\n",
    "from pathlib import Path\n",
    "import requests\n",
    "from tqdm import tqdm"
   ]
  },
  {
   "cell_type": "code",
   "execution_count": null,
   "id": "020d5440-9897-4467-b780-5bfc7e3a4332",
   "metadata": {},
   "outputs": [],
   "source": []
  }
 ],
 "metadata": {
  "kernelspec": {
   "display_name": "ml",
   "language": "python",
   "name": "ml"
  },
  "language_info": {
   "codemirror_mode": {
    "name": "ipython",
    "version": 3
   },
   "file_extension": ".py",
   "mimetype": "text/x-python",
   "name": "python",
   "nbconvert_exporter": "python",
   "pygments_lexer": "ipython3",
   "version": "3.12.3"
  }
 },
 "nbformat": 4,
 "nbformat_minor": 5
}
